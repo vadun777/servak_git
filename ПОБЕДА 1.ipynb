{
 "cells": [
  {
   "cell_type": "code",
   "execution_count": 8,
   "id": "92a79278",
   "metadata": {},
   "outputs": [
    {
     "name": "stdout",
     "output_type": "stream",
     "text": [
      "cafe35\n",
      "5\n"
     ]
    }
   ],
   "source": [
    "aliba = input ('cafe')\n",
    "cups = int(aliba)\n",
    "free_caps = int(cups / 6)\n",
    "print(free_caps)"
   ]
  },
  {
   "cell_type": "code",
   "execution_count": 9,
   "id": "f9122281",
   "metadata": {},
   "outputs": [
    {
     "name": "stdout",
     "output_type": "stream",
     "text": [
      "сколько пицц вы желаете? каждая 3 пицца бесплатно85\n",
      "28\n"
     ]
    }
   ],
   "source": [
    "enot = input ('сколько пицц вы желаете? каждая 3 пицца бесплатно')\n",
    "pizza = int(enot)\n",
    "free_pizza = int(pizza / 3)\n",
    "print(free_pizza)"
   ]
  },
  {
   "cell_type": "code",
   "execution_count": 13,
   "id": "90c6cd60",
   "metadata": {},
   "outputs": [
    {
     "name": "stdout",
     "output_type": "stream",
     "text": [
      "сколько пицц вы желаете? каждая 3 пицца бесплатно5\n",
      "1\n"
     ]
    }
   ],
   "source": [
    "pizza = int(input ('сколько пицц вы желаете? каждая 3 пицца бесплатно'))\n",
    "print(int(pizza / 3))"
   ]
  },
  {
   "cell_type": "code",
   "execution_count": 18,
   "id": "119eb2ff",
   "metadata": {},
   "outputs": [],
   "source": [
    "#A = input ('ккординатаx')\n",
    "#B = input ('координатаy') \n",
    "#kor = int (A)\n",
    "#kor5 = int (B)\n",
    "#res = int(AB = √AC2 + BC2)\n",
    "#print (res)"
   ]
  },
  {
   "cell_type": "code",
   "execution_count": 22,
   "id": "fc8a1f94",
   "metadata": {},
   "outputs": [
    {
     "name": "stdout",
     "output_type": "stream",
     "text": [
      "введите x1-2\n",
      "введите y11\n",
      "введите x24\n",
      "введите y23\n",
      "6.325\n"
     ]
    }
   ],
   "source": [
    "x1 = int(input ('введите x1'))\n",
    "y1 = int(input ('введите y1'))\n",
    "x2 = int(input ('введите x2'))\n",
    "y2 = int(input ('введите y2'))\n",
    "\n",
    "distance = round(((x1-x2)**2 + (y1-y2)**2) **0.5, 3)\n",
    "print (distance)"
   ]
  },
  {
   "cell_type": "code",
   "execution_count": 27,
   "id": "73d3c51a",
   "metadata": {},
   "outputs": [
    {
     "name": "stdout",
     "output_type": "stream",
     "text": [
      "введите x1-2\n",
      "введите y11\n",
      "введите x24\n",
      "введите y23\n",
      "6.325\n"
     ]
    }
   ],
   "source": [
    "import math\n",
    "\n",
    "x1 = int(input ('введите x1'))\n",
    "y1 = int(input ('введите y1'))\n",
    "x2 = int(input ('введите x2'))\n",
    "y2 = int(input ('введите y2'))\n",
    "\n",
    "distance = round(math.sqrt((x1-x2)**2 + (y1 - y2)**2), 3)\n",
    "print(distance)"
   ]
  },
  {
   "cell_type": "code",
   "execution_count": 30,
   "id": "41872541",
   "metadata": {},
   "outputs": [
    {
     "name": "stdout",
     "output_type": "stream",
     "text": [
      "куры2\n",
      "коровы2\n",
      "свиньи2\n",
      "20\n"
     ]
    }
   ],
   "source": [
    "kyri = int(input('куры'))\n",
    "korovi = int(input('коровы'))\n",
    "swini = int(input('свиньи'))\n",
    "\n",
    "kyri2 = int(kyri * 2)\n",
    "korovi2 = int(korovi * 4)\n",
    "swini2 =int(swini * 4)\n",
    "lapi = int(kyri2 + korovi2 + swini2)\n",
    "print(lapi)\n"
   ]
  },
  {
   "cell_type": "code",
   "execution_count": 32,
   "id": "993e3701",
   "metadata": {},
   "outputs": [
    {
     "name": "stdout",
     "output_type": "stream",
     "text": [
      "куры2\n",
      "коровы2\n",
      "свиньи2\n",
      "20\n"
     ]
    }
   ],
   "source": [
    "kyri = int(input('куры'))\n",
    "korovi = int(input('коровы'))\n",
    "swini = int(input('свиньи'))\n",
    "privet = kyri * 2 + (korovi + swini) *4\n",
    "print (privet)"
   ]
  },
  {
   "cell_type": "code",
   "execution_count": 34,
   "id": "edd55867",
   "metadata": {},
   "outputs": [
    {
     "data": {
      "text/plain": [
       "28"
      ]
     },
     "execution_count": 34,
     "metadata": {},
     "output_type": "execute_result"
    }
   ],
   "source": [
    "8*2+(2+4)*2"
   ]
  },
  {
   "cell_type": "code",
   "execution_count": null,
   "id": "c52cf1de",
   "metadata": {},
   "outputs": [],
   "source": []
  }
 ],
 "metadata": {
  "kernelspec": {
   "display_name": "Python 3",
   "language": "python",
   "name": "python3"
  },
  "language_info": {
   "codemirror_mode": {
    "name": "ipython",
    "version": 3
   },
   "file_extension": ".py",
   "mimetype": "text/x-python",
   "name": "python",
   "nbconvert_exporter": "python",
   "pygments_lexer": "ipython3",
   "version": "3.8.8"
  }
 },
 "nbformat": 4,
 "nbformat_minor": 5
}
